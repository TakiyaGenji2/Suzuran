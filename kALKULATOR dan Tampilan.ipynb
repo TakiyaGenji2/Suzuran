{
  "nbformat": 4,
  "nbformat_minor": 0,
  "metadata": {
    "colab": {
      "name": "kALKULATOR.py",
      "provenance": [],
      "authorship_tag": "ABX9TyP0763PoUh6m5Aq2FbvSRnR",
      "include_colab_link": true
    },
    "kernelspec": {
      "name": "python3",
      "display_name": "Python 3"
    }
  },
  "cells": [
    {
      "cell_type": "markdown",
      "metadata": {
        "id": "view-in-github",
        "colab_type": "text"
      },
      "source": [
        "<a href=\"https://colab.research.google.com/github/TakiyaGenji2/Suzuran/blob/main/kALKULATOR%20dan%20Tampilan.ipynb\" target=\"_parent\"><img src=\"https://colab.research.google.com/assets/colab-badge.svg\" alt=\"Open In Colab\"/></a>"
      ]
    },
    {
      "cell_type": "code",
      "metadata": {
        "id": "Ik9gEPaqC9qi"
      },
      "source": [
        "from functools import partial\r\n",
        "import tkinter as tk\r\n",
        "\r\n",
        "\r\n",
        "class applikasiKalkulator(tk.Tk):\r\n",
        "    def __init__(self):\r\n",
        "        tk.Tk.__init__(self)\r\n",
        "        self.title(\"Kalkulator tkinter\")\r\n",
        "        self.membuatTombol()\r\n",
        "        self.penentu = False\r\n",
        "\r\n",
        "    def membuatTombol(self):\r\n",
        "        self.layar = tk.Entry(self, width=25)\r\n",
        "        self.layar.grid(row=0, column=0, columnspan=5)\r\n",
        "\r\n",
        "        btn_list = [\r\n",
        "            '1', '2', '3',\r\n",
        "            '4', '5', '6',\r\n",
        "            '7', '8', '9',\r\n",
        "            '0', '+', '-',\r\n",
        "            'C', '/', '*',\r\n",
        "            '='\r\n",
        "        ]\r\n",
        "        baris = 1\r\n",
        "        kolom = 0\r\n",
        "        for penampung in btn_list:\r\n",
        "            perintah = partial(self.hitung, penampung)\r\n",
        "            if penampung == '=':\r\n",
        "                tk.Button(self, text='=', width=22, command=perintah).grid(row=baris, column=kolom, columnspan=5)\r\n",
        "            else :\r\n",
        "                tk.Button(self, text=penampung, width=5, command=perintah).grid(row=baris, column=kolom)\r\n",
        "            kolom += 1\r\n",
        "            if kolom > 2:\r\n",
        "                kolom = 0\r\n",
        "                baris += 1\r\n",
        "\r\n",
        "    def hitung(self, key):\r\n",
        "        if key == '=':\r\n",
        "            self.penentu = True\r\n",
        "            try:\r\n",
        "                result = eval(self.layar.get())\r\n",
        "                self.layar.delete(0, tk.END)\r\n",
        "                self.layar.insert(tk.END, str(result))\r\n",
        "            except:\r\n",
        "                self.layar.insert(tk.END, \"-> Error!\")\r\n",
        "        elif key == 'C':\r\n",
        "            self.layar.delete(0, tk.END)\r\n",
        "        else:\r\n",
        "            if self.penentu :\r\n",
        "                self.layar.delete(0, tk.END)\r\n",
        "                self.penentu = False\r\n",
        "            self.layar.insert(tk.END, key)\r\n",
        "\r\n",
        "panggil = applikasiKalkulator()\r\n",
        "panggil.mainloop()\r\n"
      ],
      "execution_count": null,
      "outputs": []
    }
  ]
}