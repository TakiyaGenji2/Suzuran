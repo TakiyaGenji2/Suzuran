{
  "nbformat": 4,
  "nbformat_minor": 0,
  "metadata": {
    "colab": {
      "name": "Untitled1.ipynb",
      "provenance": [],
      "authorship_tag": "ABX9TyPj7Cn9y86zYROPJHDxU2CG",
      "include_colab_link": true
    },
    "kernelspec": {
      "name": "python3",
      "display_name": "Python 3"
    }
  },
  "cells": [
    {
      "cell_type": "markdown",
      "metadata": {
        "id": "view-in-github",
        "colab_type": "text"
      },
      "source": [
        "<a href=\"https://colab.research.google.com/github/TakiyaGenji2/Suzuran/blob/main/Jobsheet%208%20Daspro.ipynb\" target=\"_parent\"><img src=\"https://colab.research.google.com/assets/colab-badge.svg\" alt=\"Open In Colab\"/></a>"
      ]
    },
    {
      "cell_type": "code",
      "metadata": {
        "colab": {
          "base_uri": "https://localhost:8080/"
        },
        "id": "3jteuKWtaZQ-",
        "outputId": "b0ca2c81-ffd3-43e5-a020-638597e97f23"
      },
      "source": [
        "# MATRIKS \r\n",
        "R = int(input(\"Enter the number of rows:\")) \r\n",
        "C = int(input(\"Enter the number of columns:\"))  \r\n",
        "# Initialize matrix \r\n",
        "matrix = [] \r\n",
        "print(\"Enter the entries rowwise:\") \r\n",
        "# For user input \r\n",
        "for i in range(R):          # A for loop for row entries \r\n",
        "    a =[] \r\n",
        "    for j in range(C):      # A for loop for column entries \r\n",
        "         a.append(int(input())) \r\n",
        "    matrix.append(a) \r\n",
        "# For printing the matrix \r\n",
        "for i in range(R): \r\n",
        "    for j in range(C): \r\n",
        "        print(matrix[i][j], end = \" \") \r\n",
        "    print()\r\n"
      ],
      "execution_count": null,
      "outputs": [
        {
          "output_type": "stream",
          "text": [
            "Enter the number of rows:2\n",
            "Enter the number of columns:2\n",
            "Enter the entries rowwise:\n",
            "1\n",
            "2\n",
            "3\n",
            "4\n",
            "1 2 \n",
            "3 4 \n"
          ],
          "name": "stdout"
        }
      ]
    },
    {
      "cell_type": "code",
      "metadata": {
        "id": "qrd5t7tPnKYu"
      },
      "source": [
        ""
      ],
      "execution_count": null,
      "outputs": []
    },
    {
      "cell_type": "code",
      "metadata": {
        "id": "5TOZbyMUcSGq",
        "colab": {
          "base_uri": "https://localhost:8080/"
        },
        "outputId": "229a0c6f-dbd5-4461-e5e0-6ba43c4a4010"
      },
      "source": [
        "import numpy as np \r\n",
        "  \r\n",
        "R = int(input(\"Enter the number of rows:\")) \r\n",
        "C = int(input(\"Enter the number of columns:\")) \r\n",
        "  \r\n",
        "print(\"Enter the entries in a single line (separated by space): \") \r\n",
        "  \r\n",
        "# User input of entries in a  \r\n",
        "# single line separated by space \r\n",
        "entries = list(map(int, input().split())) \r\n",
        "  \r\n",
        "# For printing the matrix \r\n",
        "matrix = np.array(entries).reshape(R, C) \r\n",
        "print(matrix)\r\n"
      ],
      "execution_count": null,
      "outputs": [
        {
          "output_type": "stream",
          "text": [
            "Enter the number of rows:2\n",
            "Enter the number of columns:3\n",
            "Enter the entries in a single line (separated by space): \n",
            "1 2 3 4 5 6\n",
            "[[1 2 3]\n",
            " [4 5 6]]\n"
          ],
          "name": "stdout"
        }
      ]
    },
    {
      "cell_type": "code",
      "metadata": {
        "id": "qocPRZphnMLd"
      },
      "source": [
        "#Program Membut Sebuah Matrik oleh Muhammad Fahri Dika Yuda dan Yusuf Taqiyuddin\r\n",
        "print(\"Matrik Ordo 2x2\")\r\n",
        "a = int(input(\"baris 1, kolom 1 :\"))\r\n",
        "b = int(input(\"baris 1, kolom 2 :\"))\r\n",
        "c = int(input(\"baris 2, kolom 1 :\"))\r\n",
        "d = int(input(\"baris 2, kolom 2 :\"))\r\n"
      ],
      "execution_count": null,
      "outputs": []
    }
  ]
}