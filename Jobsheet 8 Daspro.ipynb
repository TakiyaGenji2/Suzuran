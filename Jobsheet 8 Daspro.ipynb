{
  "nbformat": 4,
  "nbformat_minor": 0,
  "metadata": {
    "colab": {
      "name": "Untitled1.ipynb",
      "provenance": [],
      "authorship_tag": "ABX9TyP7w76u3dhGzbWU0UNgFwkU",
      "include_colab_link": true
    },
    "kernelspec": {
      "name": "python3",
      "display_name": "Python 3"
    }
  },
  "cells": [
    {
      "cell_type": "markdown",
      "metadata": {
        "id": "view-in-github",
        "colab_type": "text"
      },
      "source": [
        "<a href=\"https://colab.research.google.com/github/TakiyaGenji2/Suzuran/blob/main/Jobsheet%208%20Daspro.ipynb\" target=\"_parent\"><img src=\"https://colab.research.google.com/assets/colab-badge.svg\" alt=\"Open In Colab\"/></a>"
      ]
    },
    {
      "cell_type": "code",
      "metadata": {
        "colab": {
          "base_uri": "https://localhost:8080/"
        },
        "id": "3jteuKWtaZQ-",
        "outputId": "b0ca2c81-ffd3-43e5-a020-638597e97f23"
      },
      "source": [
        "# MATRIKS \r\n",
        "R = int(input(\"Enter the number of rows:\")) \r\n",
        "C = int(input(\"Enter the number of columns:\"))  \r\n",
        "# Initialize matrix \r\n",
        "matrix = [] \r\n",
        "print(\"Enter the entries rowwise:\") \r\n",
        "# For user input \r\n",
        "for i in range(R):          # A for loop for row entries \r\n",
        "    a =[] \r\n",
        "    for j in range(C):      # A for loop for column entries \r\n",
        "         a.append(int(input())) \r\n",
        "    matrix.append(a) \r\n",
        "# For printing the matrix \r\n",
        "for i in range(R): \r\n",
        "    for j in range(C): \r\n",
        "        print(matrix[i][j], end = \" \") \r\n",
        "    print()\r\n"
      ],
      "execution_count": 2,
      "outputs": [
        {
          "output_type": "stream",
          "text": [
            "Enter the number of rows:2\n",
            "Enter the number of columns:2\n",
            "Enter the entries rowwise:\n",
            "1\n",
            "2\n",
            "3\n",
            "4\n",
            "1 2 \n",
            "3 4 \n"
          ],
          "name": "stdout"
        }
      ]
    }
  ]
}